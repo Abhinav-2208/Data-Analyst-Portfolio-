{
 "cells": [
  {
   "cell_type": "markdown",
   "id": "3933307b",
   "metadata": {},
   "source": [
    "### `Problem 1`: Write a program that will give you in hand monthly salary after deduction on CTC - HRA(10%), DA(5%), PF(3%) and taxes deduction as below:\n",
    "\n",
    "> Salary(Lakhs) : Tax(%)\n",
    "\n",
    "*   Below 5 : 0%\n",
    "*   5-10 : 10%\n",
    "*   10-20 : 20%\n",
    "*   aboove 20 : 30%\n",
    "\n"
   ]
  },
  {
   "cell_type": "code",
   "execution_count": 4,
   "id": "ce147eed",
   "metadata": {},
   "outputs": [
    {
     "name": "stdout",
     "output_type": "stream",
     "text": [
      "Enter the CTC:1600000\n",
      "82666.66666666667\n"
     ]
    }
   ],
   "source": [
    "s=float(input(\"Enter the CTC:\"))\n",
    "if s<500000:\n",
    "    monthly_salary=(s-((s*18)/100))/12\n",
    "elif s>500000 and s<1000000:\n",
    "    monthly_salary=(s-((s*28)/100))/12\n",
    "elif s>1000000 and s<2000000:\n",
    "    monthly_salary=(s-((s*38)/100))/12\n",
    "else:\n",
    "    monthly_salary=(s-((s*48)/100))/12\n",
    "print(monthly_salary)"
   ]
  },
  {
   "cell_type": "markdown",
   "id": "7473975a",
   "metadata": {},
   "source": [
    "### `Problem 2`: Write a program that take a user input of three angles and will find out whether it can form a triangle or not."
   ]
  },
  {
   "cell_type": "code",
   "execution_count": 6,
   "id": "316171c1",
   "metadata": {},
   "outputs": [
    {
     "name": "stdout",
     "output_type": "stream",
     "text": [
      "Enter the 1st angle:20\n",
      "Enter the 1st angle:10\n",
      "Enter the 1st angle:100\n",
      "It can not form a triangle\n"
     ]
    }
   ],
   "source": [
    "a=float(input(\"Enter the 1st angle:\"))\n",
    "b=float(input(\"Enter the 1st angle:\"))\n",
    "c=float(input(\"Enter the 1st angle:\"))\n",
    "if (a+b+c)==180:\n",
    "  print(\"It can form a triangle\")\n",
    "else:\n",
    "  print(\"It can not form a triangle\")"
   ]
  },
  {
   "cell_type": "markdown",
   "id": "fdf21ac3",
   "metadata": {},
   "source": [
    "### `Problem 3`: Write a program that will take user input of cost price and selling price and determines whether its a loss or a profit."
   ]
  },
  {
   "cell_type": "code",
   "execution_count": 7,
   "id": "ac94816d",
   "metadata": {},
   "outputs": [
    {
     "name": "stdout",
     "output_type": "stream",
     "text": [
      "Enter cost price:80\n",
      "Enter selling price:100\n",
      "profit of 20.0\n"
     ]
    }
   ],
   "source": [
    "cp=float(input(\"Enter cost price:\"))\n",
    "sp=float(input(\"Enter selling price:\"))\n",
    "if cp>sp:\n",
    "    loss=cp-sp\n",
    "    print(f\"Loss of {loss}\")\n",
    "else:\n",
    "    profit=sp-cp\n",
    "    print(f\"profit of {profit}\")"
   ]
  },
  {
   "cell_type": "markdown",
   "id": "0adc210a",
   "metadata": {},
   "source": [
    "### `Problem 4`: Write a menu-driven program - \n",
    "1. cm to ft \n",
    "2. km to miles \n",
    "3. USD to INR \n",
    "4. exit"
   ]
  },
  {
   "cell_type": "code",
   "execution_count": 3,
   "id": "72b1baa7",
   "metadata": {},
   "outputs": [
    {
     "name": "stdout",
     "output_type": "stream",
     "text": [
      "\n",
      "Hi! How may I help you?\n",
      "1. Enter 1 for cm to ft\n",
      "2. Enter 2 for km to miles\n",
      "3. Enter 3 for USD to INR\n",
      "4. Enter 4 for exit\n",
      "3\n",
      "usd to inr\n"
     ]
    }
   ],
   "source": [
    "menu=input(\"\"\"\n",
    "Hi! How may I help you?\n",
    "1. Enter 1 for cm to ft\n",
    "2. Enter 2 for km to miles\n",
    "3. Enter 3 for USD to INR\n",
    "4. Enter 4 for exit\n",
    "\"\"\")\n",
    "if menu==\"1\":\n",
    "    print(\"cm to ft\")\n",
    "elif menu==\"2\":\n",
    "    print(\"km to miles\")\n",
    "elif menu==\"3\":\n",
    "    print(\"usd to inr\")\n",
    "else:\n",
    "    print(\"exit\")"
   ]
  },
  {
   "cell_type": "markdown",
   "id": "0875a1d3",
   "metadata": {},
   "source": [
    "### `Problem 5` - Exercise 12: Display Fibonacci series up to 10 terms.\n",
    "\n",
    "*Note: The Fibonacci Sequence is a series of numbers. The next number is found by adding up the two numbers before it. The first two numbers are 0 and 1. For example, 0, 1, 1, 2, 3, 5, 8, 13, 21. The next number in this series above is 13+21 = 34*"
   ]
  },
  {
   "cell_type": "code",
   "execution_count": 1,
   "id": "d3943f5d",
   "metadata": {},
   "outputs": [
    {
     "name": "stdout",
     "output_type": "stream",
     "text": [
      "0\n",
      "1\n",
      "1\n",
      "2\n",
      "3\n",
      "5\n",
      "8\n",
      "13\n",
      "21\n",
      "34\n"
     ]
    }
   ],
   "source": [
    "num1,num2=0,1\n",
    "for i in range(10):\n",
    "    print(num1)\n",
    "    next=num1+num2\n",
    "    num1=num2\n",
    "    num2=next"
   ]
  },
  {
   "cell_type": "markdown",
   "id": "74bfb5a8",
   "metadata": {},
   "source": [
    "### `Problem 6` - Find the factorial of a given number.\n"
   ]
  },
  {
   "cell_type": "code",
   "execution_count": 5,
   "id": "7178d1af",
   "metadata": {},
   "outputs": [
    {
     "name": "stdout",
     "output_type": "stream",
     "text": [
      "Enter the number:4\n",
      "24\n"
     ]
    }
   ],
   "source": [
    "n=int(input(\"Enter the number:\"))\n",
    "fact=1\n",
    "for i in range(n,0,-1):\n",
    "    fact=fact*i\n",
    "print(fact)"
   ]
  },
  {
   "cell_type": "markdown",
   "id": "7c863822",
   "metadata": {},
   "source": [
    "### `Problem 7` - Reverse a given integer number.\n"
   ]
  },
  {
   "cell_type": "code",
   "execution_count": 3,
   "id": "ac0342b7",
   "metadata": {},
   "outputs": [
    {
     "name": "stdout",
     "output_type": "stream",
     "text": [
      "Enter the number:123\n",
      "321\n"
     ]
    }
   ],
   "source": [
    "n=int(input(\"Enter the number:\"))\n",
    "rev=0\n",
    "while n!=0:\n",
    "    digit=n%10\n",
    "    rev=rev*10+digit\n",
    "    n=n//10\n",
    "print(rev)"
   ]
  },
  {
   "cell_type": "markdown",
   "id": "22216a68",
   "metadata": {},
   "source": [
    "### `Problem 8`: Take a user input as integer N. Find out the sum from 1 to N. If any number if divisible by 5, then skip that number. And if the sum is greater than 300, don't need to calculate the sum further more. Print the final result. And don't use for loop to solve this problem.\n"
   ]
  },
  {
   "cell_type": "code",
   "execution_count": 5,
   "id": "fde927a4",
   "metadata": {},
   "outputs": [
    {
     "name": "stdout",
     "output_type": "stream",
     "text": [
      "Enter the number:10\n",
      "40\n"
     ]
    }
   ],
   "source": [
    "n=int(input(\"Enter the number:\"))\n",
    "sum=0\n",
    "for i in range(n):\n",
    "    if i%5==0:\n",
    "        continue;\n",
    "    sum=sum+i\n",
    "    if sum>300:\n",
    "        sum-=i\n",
    "        break;\n",
    "print(sum)"
   ]
  },
  {
   "cell_type": "markdown",
   "id": "229e441d",
   "metadata": {},
   "source": [
    "### Problem 9: Write a program that keeps on accepting a number from the user until the user enters Zero. Display the sum and average of all the numbers.\n"
   ]
  },
  {
   "cell_type": "code",
   "execution_count": 6,
   "id": "8f11ca95",
   "metadata": {},
   "outputs": [
    {
     "name": "stdout",
     "output_type": "stream",
     "text": [
      "Enter the number:1\n",
      "Enter the number:5\n",
      "Enter the number:6\n",
      "Enter the number:3\n",
      "Enter the number:2\n",
      "Enter the number:0\n",
      "17\n",
      "3.4\n"
     ]
    }
   ],
   "source": [
    "sum=0\n",
    "count=0\n",
    "while True:\n",
    "    num=int(input(\"Enter the number:\"))\n",
    "    if num==0:\n",
    "        break;\n",
    "    sum=sum+num\n",
    "    count=count+1\n",
    "print(sum)\n",
    "print(sum/count)"
   ]
  },
  {
   "cell_type": "markdown",
   "id": "69a22fae",
   "metadata": {},
   "source": [
    "### `Problem 10`: Write a program which will find all such numbers which are divisible by 7 but are not a multiple of 5, between 2000 and 3200 (both included). The numbers obtained should be printed in a comma-separated sequence on a single line."
   ]
  },
  {
   "cell_type": "code",
   "execution_count": 9,
   "id": "42e7ef07",
   "metadata": {},
   "outputs": [
    {
     "name": "stdout",
     "output_type": "stream",
     "text": [
      "2002,2009,2016,2023,2037,2044,2051,2058,2072,2079,2086,2093,2107,2114,2121,2128,2142,2149,2156,2163,2177,2184,2191,2198,2212,2219,2226,2233,2247,2254,2261,2268,2282,2289,2296,2303,2317,2324,2331,2338,2352,2359,2366,2373,2387,2394,2401,2408,2422,2429,2436,2443,2457,2464,2471,2478,2492,2499,2506,2513,2527,2534,2541,2548,2562,2569,2576,2583,2597,2604,2611,2618,2632,2639,2646,2653,2667,2674,2681,2688,2702,2709,2716,2723,2737,2744,2751,2758,2772,2779,2786,2793,2807,2814,2821,2828,2842,2849,2856,2863,2877,2884,2891,2898,2912,2919,2926,2933,2947,2954,2961,2968,2982,2989,2996,3003,3017,3024,3031,3038,3052,3059,3066,3073,3087,3094,3101,3108,3122,3129,3136,3143,3157,3164,3171,3178,3192,3199,"
     ]
    }
   ],
   "source": [
    "for i in range(2000,3201):\n",
    "    if i%7==0 and i%5!=0:\n",
    "        print(i,end=\",\")\n",
    "    "
   ]
  },
  {
   "cell_type": "markdown",
   "id": "c014561f",
   "metadata": {},
   "source": [
    "### Problem 11: Write a program, which will find all such numbers between 1000 and 3000 (both included) such that each digit of the number is an even number. The numbers obtained should be printed in a space-separated sequence on a single line.\n"
   ]
  },
  {
   "cell_type": "code",
   "execution_count": 12,
   "id": "9d15b74c",
   "metadata": {},
   "outputs": [
    {
     "name": "stdout",
     "output_type": "stream",
     "text": [
      "2000 2002 2004 2006 2008 2020 2022 2024 2026 2028 2040 2042 2044 2046 2048 2060 2062 2064 2066 2068 2080 2082 2084 2086 2088 2200 2202 2204 2206 2208 2220 2222 2224 2226 2228 2240 2242 2244 2246 2248 2260 2262 2264 2266 2268 2280 2282 2284 2286 2288 2400 2402 2404 2406 2408 2420 2422 2424 2426 2428 2440 2442 2444 2446 2448 2460 2462 2464 2466 2468 2480 2482 2484 2486 2488 2600 2602 2604 2606 2608 2620 2622 2624 2626 2628 2640 2642 2644 2646 2648 2660 2662 2664 2666 2668 2680 2682 2684 2686 2688 2800 2802 2804 2806 2808 2820 2822 2824 2826 2828 2840 2842 2844 2846 2848 2860 2862 2864 2866 2868 2880 2882 2884 2886 2888 "
     ]
    }
   ],
   "source": [
    "for i in range(1000,3001):\n",
    "    flag=True\n",
    "    curr=i\n",
    "    while curr>0:\n",
    "        last=curr%10\n",
    "        if last%2!=0:\n",
    "            flag=False\n",
    "            break\n",
    "        curr=curr//10\n",
    "    if flag:\n",
    "        print(i,end=\" \")\n",
    "    "
   ]
  },
  {
   "cell_type": "markdown",
   "id": "94ab32d9",
   "metadata": {},
   "source": [
    "### `Problem 12`: A robot moves in a plane starting from the original point (0,0). The robot can move toward UP, DOWN, LEFT and RIGHT with a given steps. \n"
   ]
  },
  {
   "cell_type": "code",
   "execution_count": 3,
   "id": "d55976f0",
   "metadata": {},
   "outputs": [
    {
     "name": "stdout",
     "output_type": "stream",
     "text": [
      "Enter robo path:UP 3\n",
      "Enter robo path:DOWN 4\n",
      "Enter robo path:!\n",
      "New co-ordinate  [0, 3]\n",
      "Distance  3.0\n"
     ]
    }
   ],
   "source": [
    "pos=[0,0]\n",
    "while True:\n",
    "    s=input(\"Enter robo path:\")\n",
    "    if s==\"!\":\n",
    "        break\n",
    "    direction=s.split()[0]\n",
    "    steps=int(s.split()[1])\n",
    "    if direction==\"UP\":\n",
    "        pos[1]=pos[1]+steps\n",
    "    elif direction==\"DOWN\":\n",
    "        pos[1]==pos[1]-steps\n",
    "    elif direction==\"RIGHT\":\n",
    "        pos[0]=pos[0]+steps\n",
    "    elif direction==\"LEFT\":\n",
    "        pos[0]=pos[0]-steps\n",
    "    else:\n",
    "        pass\n",
    "print(\"New co-ordinate \",pos)\n",
    "print(\"Distance \",(pos[0]**2 + pos[1]**2)**0.5)"
   ]
  },
  {
   "cell_type": "markdown",
   "id": "f78c44c7",
   "metadata": {},
   "source": [
    "### `Problem 13`:Write a program to print whether a given number is a prime number or not"
   ]
  },
  {
   "cell_type": "code",
   "execution_count": 2,
   "id": "3484a42b",
   "metadata": {},
   "outputs": [
    {
     "name": "stdout",
     "output_type": "stream",
     "text": [
      "Enter the number:6\n",
      "Not a Prime number\n"
     ]
    }
   ],
   "source": [
    "n=int(input(\"Enter the number:\"))\n",
    "flag=True\n",
    "for i in range(2,n):\n",
    "    if n%i==0:\n",
    "        flag=False\n",
    "        break\n",
    "if flag:\n",
    "    print(\" prime number\")\n",
    "else:\n",
    "    print(\"Not a Prime number\")"
   ]
  },
  {
   "cell_type": "markdown",
   "id": "0361b45b",
   "metadata": {},
   "source": [
    "### `Problem 13`:Print all the Armstrong numbers in a given range.\n"
   ]
  },
  {
   "cell_type": "code",
   "execution_count": 6,
   "id": "3451253c",
   "metadata": {},
   "outputs": [
    {
     "name": "stdout",
     "output_type": "stream",
     "text": [
      "Enter the number153\n",
      "Armstrong Number\n"
     ]
    }
   ],
   "source": [
    "n=int(input(\"Enter the number\"))\n",
    "temp=n\n",
    "sum=0\n",
    "while n>0:\n",
    "    last=n%10\n",
    "    sum=sum+last**3\n",
    "    n=n//10\n",
    "if temp==sum:\n",
    "    print(\"Armstrong Number\")\n",
    "else:\n",
    "    print(\"Not armstrong number\")"
   ]
  },
  {
   "cell_type": "code",
   "execution_count": null,
   "id": "a441ea40",
   "metadata": {},
   "outputs": [],
   "source": []
  },
  {
   "cell_type": "code",
   "execution_count": null,
   "id": "2b1cfa49",
   "metadata": {},
   "outputs": [],
   "source": []
  },
  {
   "cell_type": "code",
   "execution_count": null,
   "id": "786cffad",
   "metadata": {},
   "outputs": [],
   "source": []
  },
  {
   "cell_type": "code",
   "execution_count": null,
   "id": "53abf6fe",
   "metadata": {},
   "outputs": [],
   "source": []
  },
  {
   "cell_type": "code",
   "execution_count": null,
   "id": "ff4a6dd1",
   "metadata": {},
   "outputs": [],
   "source": []
  },
  {
   "cell_type": "code",
   "execution_count": null,
   "id": "1767e914",
   "metadata": {},
   "outputs": [],
   "source": []
  }
 ],
 "metadata": {
  "kernelspec": {
   "display_name": "Python 3 (ipykernel)",
   "language": "python",
   "name": "python3"
  },
  "language_info": {
   "codemirror_mode": {
    "name": "ipython",
    "version": 3
   },
   "file_extension": ".py",
   "mimetype": "text/x-python",
   "name": "python",
   "nbconvert_exporter": "python",
   "pygments_lexer": "ipython3",
   "version": "3.9.12"
  }
 },
 "nbformat": 4,
 "nbformat_minor": 5
}
