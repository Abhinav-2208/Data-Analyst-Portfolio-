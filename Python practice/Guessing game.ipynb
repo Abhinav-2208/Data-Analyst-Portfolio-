{
 "cells": [
  {
   "cell_type": "code",
   "execution_count": null,
   "id": "f2fc7555",
   "metadata": {},
   "outputs": [],
   "source": [
    "#generate a random number between 1 to 100\n",
    "import random\n",
    "jackpot=random.randint(1,100)\n",
    "#taking user input\n",
    "guess=int(input(\"Guess the number:\"))\n",
    "count=1\n",
    "while guess!=jackpot:\n",
    "    if guess<jackpot:\n",
    "        print(\"Wrong guess! Guess some higher value\")\n",
    "    else:\n",
    "        print(\"Guess some lower value\")\n",
    "    guess=int(input(\"Guess the number:\"))\n",
    "    count+=1\n",
    "else:\n",
    "    print(\"correct guess\")\n",
    "    print(f\"Number of attemps {count}\")\n",
    "    \n"
   ]
  },
  {
   "cell_type": "code",
   "execution_count": null,
   "id": "7803c664",
   "metadata": {},
   "outputs": [],
   "source": []
  },
  {
   "cell_type": "code",
   "execution_count": null,
   "id": "bab7c0dc",
   "metadata": {},
   "outputs": [],
   "source": []
  }
 ],
 "metadata": {
  "kernelspec": {
   "display_name": "Python 3 (ipykernel)",
   "language": "python",
   "name": "python3"
  },
  "language_info": {
   "codemirror_mode": {
    "name": "ipython",
    "version": 3
   },
   "file_extension": ".py",
   "mimetype": "text/x-python",
   "name": "python",
   "nbconvert_exporter": "python",
   "pygments_lexer": "ipython3",
   "version": "3.9.12"
  }
 },
 "nbformat": 4,
 "nbformat_minor": 5
}
