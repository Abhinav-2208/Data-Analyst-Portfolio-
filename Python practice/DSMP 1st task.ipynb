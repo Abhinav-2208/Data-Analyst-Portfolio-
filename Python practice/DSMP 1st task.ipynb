{
 "cells": [
  {
   "cell_type": "markdown",
   "id": "9d632616",
   "metadata": {},
   "source": [
    "### Q.1 Print the given strings as per stated format."
   ]
  },
  {
   "cell_type": "code",
   "execution_count": 2,
   "id": "e57bd6a8",
   "metadata": {},
   "outputs": [
    {
     "name": "stdout",
     "output_type": "stream",
     "text": [
      "Data-Science-Mentorship-Program-By-CampusX\n"
     ]
    }
   ],
   "source": [
    "print(\"Data\", \"Science\", \"Mentorship\", \"Program\" ,\n",
    "\"By\", \"CampusX\",sep=\"-\")"
   ]
  },
  {
   "cell_type": "markdown",
   "id": "e6bdb237",
   "metadata": {},
   "source": [
    "### Q.2 Celcius to farenheit"
   ]
  },
  {
   "cell_type": "code",
   "execution_count": 5,
   "id": "eb81e605",
   "metadata": {},
   "outputs": [
    {
     "name": "stdout",
     "output_type": "stream",
     "text": [
      "Enter the temp in celcius:28\n",
      "82.4\n"
     ]
    }
   ],
   "source": [
    "c=int(input(\"Enter the temp in celcius:\"))\n",
    "f=((9/5)*c)+32\n",
    "print(f)"
   ]
  },
  {
   "cell_type": "markdown",
   "id": "d02a8941",
   "metadata": {},
   "source": [
    "### Swap of two number using third variable"
   ]
  },
  {
   "cell_type": "code",
   "execution_count": 9,
   "id": "3bc833e6",
   "metadata": {},
   "outputs": [
    {
     "name": "stdout",
     "output_type": "stream",
     "text": [
      "Enter the 1st number:2\n",
      "Enter the 2nd number:3\n",
      "3 2\n"
     ]
    }
   ],
   "source": [
    "n1=int(input(\"Enter the 1st number:\"))\n",
    "n2=int(input(\"Enter the 2nd number:\"))\n",
    "temp=n1\n",
    "n1=n2\n",
    "n2=temp\n",
    "print(n1,n2)"
   ]
  },
  {
   "cell_type": "markdown",
   "id": "5314bd9b",
   "metadata": {},
   "source": [
    "### Eucledian distance between two points using python"
   ]
  },
  {
   "cell_type": "code",
   "execution_count": 10,
   "id": "3840f154",
   "metadata": {},
   "outputs": [
    {
     "name": "stdout",
     "output_type": "stream",
     "text": [
      "X co-ordinate of 1st point:0\n",
      "Y co-ordinate of 1st point:0\n",
      "X co-ordinate of 2nd point:3\n",
      "Y co-ordinate of 2nd point:4\n",
      "5\n"
     ]
    }
   ],
   "source": [
    "import math\n",
    "x1=int(input(\"X co-ordinate of 1st point:\"))\n",
    "y1=int(input(\"Y co-ordinate of 1st point:\"))\n",
    "x2=int(input(\"X co-ordinate of 2nd point:\"))\n",
    "y2=int(input(\"Y co-ordinate of 2nd point:\"))\n",
    "d=int(math.sqrt((x2-x1)**2 + (y2-y1)**2))\n",
    "print(d)"
   ]
  },
  {
   "cell_type": "markdown",
   "id": "3b693837",
   "metadata": {},
   "source": [
    "### Simple interest program using python"
   ]
  },
  {
   "cell_type": "code",
   "execution_count": 12,
   "id": "4e1eba86",
   "metadata": {},
   "outputs": [
    {
     "name": "stdout",
     "output_type": "stream",
     "text": [
      "Enter the principle amount:100\n",
      "Enter the rate:10\n",
      "Enter the time period:2\n",
      "20\n"
     ]
    }
   ],
   "source": [
    "p=float(input(\"Enter the principle amount:\"))\n",
    "r=float(input(\"Enter the rate:\"))\n",
    "t=int(input(\"Enter the time period:\"))\n",
    "SI=int((p*r*t)/100)\n",
    "print(SI)"
   ]
  },
  {
   "cell_type": "markdown",
   "id": "58098e48",
   "metadata": {},
   "source": [
    "### Q6:- Write a program that will tell the number of dogs and chicken are there when the user will provide the value of total heads and legs.\n"
   ]
  },
  {
   "cell_type": "code",
   "execution_count": null,
   "id": "a7a41610",
   "metadata": {},
   "outputs": [],
   "source": []
  },
  {
   "cell_type": "markdown",
   "id": "bf0da47d",
   "metadata": {},
   "source": [
    "### Q7:- Write a program to find the sum of squares of first n natural numbers where n will be provided by the user."
   ]
  },
  {
   "cell_type": "code",
   "execution_count": 14,
   "id": "b83db877",
   "metadata": {},
   "outputs": [
    {
     "name": "stdout",
     "output_type": "stream",
     "text": [
      "Enter the number of term:3\n",
      "14\n"
     ]
    }
   ],
   "source": [
    "n=int(input(\"Enter the number of term:\"))\n",
    "sum=int((n*(n+1)*(2*n+1))/6)\n",
    "print(sum)"
   ]
  },
  {
   "cell_type": "markdown",
   "id": "95f72d27",
   "metadata": {},
   "source": [
    "### Q8:- Given the first 2 terms of an Arithmetic Series.Find the Nth term of the series. Assume all inputs are provided by the user."
   ]
  },
  {
   "cell_type": "code",
   "execution_count": 15,
   "id": "493a3cf4",
   "metadata": {},
   "outputs": [
    {
     "name": "stdout",
     "output_type": "stream",
     "text": [
      "Enter 1st number:2\n",
      "Enter the 2nd number:5\n",
      "Number of terms:7\n",
      "20\n"
     ]
    }
   ],
   "source": [
    "n1=int(input(\"Enter 1st number:\"))\n",
    "n2=int(input(\"Enter the 2nd number:\"))\n",
    "n=int(input(\"Number of terms:\"))\n",
    "d=n2-n1\n",
    "T=n1+(n-1)*d\n",
    "print(T)"
   ]
  },
  {
   "cell_type": "markdown",
   "id": "e0e88dda",
   "metadata": {},
   "source": [
    "### Q9:- Given 2 fractions, find the sum of those 2 fractions.Take the numerator and denominator values of the fractions from the user."
   ]
  },
  {
   "cell_type": "code",
   "execution_count": 4,
   "id": "74cc322c",
   "metadata": {},
   "outputs": [
    {
     "name": "stdout",
     "output_type": "stream",
     "text": [
      "Enter 1st numerator:2\n",
      "Enter 1st denominator:4\n",
      "Enter 2nd numerator:3\n",
      "Enter 2nd denominator:6\n",
      "24/24\n"
     ]
    }
   ],
   "source": [
    "n1=int(input(\"Enter 1st numerator:\"))\n",
    "d1=int(input(\"Enter 1st denominator:\"))\n",
    "n2=int(input(\"Enter 2nd numerator:\"))\n",
    "d2=int(input(\"Enter 2nd denominator:\"))\n",
    "if d1==d2:\n",
    "    num=n1+n2\n",
    "    den=d2\n",
    "    print(f\"{num}/{den}\")\n",
    "else:\n",
    "    num=n1*d2 + n2*d1\n",
    "    den=d1*d2\n",
    "    print(f\"{num}/{den}\")"
   ]
  },
  {
   "cell_type": "markdown",
   "id": "340ec367",
   "metadata": {},
   "source": [
    "### Q10:- Given the height, width and breadth of a milk tank, you have to find out how many glasses of milk can be obtained? Assume all the inputs are provided by the user.\n"
   ]
  },
  {
   "cell_type": "code",
   "execution_count": null,
   "id": "0d51a322",
   "metadata": {},
   "outputs": [],
   "source": []
  },
  {
   "cell_type": "code",
   "execution_count": null,
   "id": "dfedc8bc",
   "metadata": {},
   "outputs": [],
   "source": [
    "h=float(input(\"Enter the height of tank:\"))\n",
    "b=float(input(\"Enter the breadth of tank:\"))\n",
    "l=float(input(\"Enter the length of tank:\"))\n",
    "volume_of_tank=h*b*l\n",
    "h1=float(input(\"Enter the height of glass:\"))\n",
    "r=float(input(\"Enter the radius of glass:\"))\n",
    "volume_of_glass=3.14*r*r*h1\n",
    "number_of_glass=int(volume_of_tank/volume_of_glass)\n",
    "print(number_of_glass"
   ]
  },
  {
   "cell_type": "code",
   "execution_count": 1,
   "id": "1f8aeaf5",
   "metadata": {},
   "outputs": [
    {
     "name": "stdout",
     "output_type": "stream",
     "text": [
      "Enter 1st number:4\n",
      "Enter 2nd number:1\n",
      "Enter 3rd number:7\n",
      "7 is greater than 4 and 1\n"
     ]
    }
   ],
   "source": [
    "### Maximum btween three numbers\n",
    "a=int(input(\"Enter 1st number:\"))\n",
    "b=int(input(\"Enter 2nd number:\"))\n",
    "c=int(input(\"Enter 3rd number:\"))\n",
    "if a>b and a>c:\n",
    "    print(f\"{a} is greater than {b} and {c}\")\n",
    "elif b>a and b>c:\n",
    "    print(f\"{b} is greater than {a} and {c}\")\n",
    "else:\n",
    "    print(f\"{c} is greater than {a} and {b}\")"
   ]
  },
  {
   "cell_type": "code",
   "execution_count": 2,
   "id": "4660919c",
   "metadata": {},
   "outputs": [
    {
     "name": "stdout",
     "output_type": "stream",
     "text": [
      "Enter 1st num:32\n",
      "Enter 2nd num:12\n",
      "Enter the operator:+\n",
      "44\n"
     ]
    }
   ],
   "source": [
    "n1=int(input(\"Enter 1st num:\"))\n",
    "n2=int(input(\"Enter 2nd num:\"))\n",
    "op=input(\"Enter the operator:\")\n",
    "if op==\"+\":\n",
    "    print(n1+n2)\n",
    "elif op==\"-\":\n",
    "    print(n1-n2)\n",
    "elif op==\"*\":\n",
    "    print(n1*n2)\n",
    "else:\n",
    "    print(n1/n2)"
   ]
  },
  {
   "cell_type": "code",
   "execution_count": null,
   "id": "39553dc0",
   "metadata": {},
   "outputs": [],
   "source": [
    "## Menu driven program\n",
    "menu=input(\"\"\"\n",
    "Hi! How may I help you?\n",
    "1. Enter 1 for pin change\n",
    "2. Enter 2 for balance check\n",
    "3. Enter 3 for withdrawl\n",
    "4. Enter 4 for exit\n",
    "\"\"\")"
   ]
  },
  {
   "cell_type": "code",
   "execution_count": 4,
   "id": "14e8b77c",
   "metadata": {},
   "outputs": [
    {
     "data": {
      "text/plain": [
       "74"
      ]
     },
     "execution_count": 4,
     "metadata": {},
     "output_type": "execute_result"
    }
   ],
   "source": [
    "import random \n",
    "random.randint(1,100)"
   ]
  },
  {
   "cell_type": "code",
   "execution_count": 5,
   "id": "42f3c7a5",
   "metadata": {},
   "outputs": [],
   "source": [
    "import datetime"
   ]
  },
  {
   "cell_type": "code",
   "execution_count": 6,
   "id": "409b571c",
   "metadata": {},
   "outputs": [
    {
     "name": "stdout",
     "output_type": "stream",
     "text": [
      "2024-06-26 20:40:30.207879\n"
     ]
    }
   ],
   "source": [
    "print(datetime.datetime.now())"
   ]
  },
  {
   "cell_type": "code",
   "execution_count": 7,
   "id": "3eeb394e",
   "metadata": {},
   "outputs": [
    {
     "name": "stdout",
     "output_type": "stream",
     "text": [
      "Enter number to print table:2\n",
      "2\n",
      "4\n",
      "6\n",
      "8\n",
      "10\n",
      "12\n",
      "14\n",
      "16\n",
      "18\n",
      "20\n"
     ]
    }
   ],
   "source": [
    "n=int(input(\"Enter number to print table:\"))\n",
    "i=1\n",
    "while i<11:\n",
    "    print(n*i)\n",
    "    i+=1"
   ]
  },
  {
   "cell_type": "code",
   "execution_count": null,
   "id": "bde08b9d",
   "metadata": {},
   "outputs": [],
   "source": []
  }
 ],
 "metadata": {
  "kernelspec": {
   "display_name": "Python 3 (ipykernel)",
   "language": "python",
   "name": "python3"
  },
  "language_info": {
   "codemirror_mode": {
    "name": "ipython",
    "version": 3
   },
   "file_extension": ".py",
   "mimetype": "text/x-python",
   "name": "python",
   "nbconvert_exporter": "python",
   "pygments_lexer": "ipython3",
   "version": "3.9.12"
  }
 },
 "nbformat": 4,
 "nbformat_minor": 5
}
