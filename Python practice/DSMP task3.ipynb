{
 "cells": [
  {
   "cell_type": "markdown",
   "id": "62270b58",
   "metadata": {},
   "source": [
    "### Program.1 - The current population of a town is 10000. The population of the town is increasing at the rate of 10% per year. You have to write a program to find out the population at the end of each of the last 10 years."
   ]
  },
  {
   "cell_type": "code",
   "execution_count": 2,
   "id": "2d50b6da",
   "metadata": {},
   "outputs": [
    {
     "name": "stdout",
     "output_type": "stream",
     "text": [
      "Enter the current population:100\n",
      "10 100\n",
      "9 90.9090909090909\n",
      "8 82.64462809917354\n",
      "7 75.13148009015777\n",
      "6 68.30134553650706\n",
      "5 62.0921323059155\n",
      "4 56.44739300537772\n",
      "3 51.31581182307065\n",
      "2 46.650738020973314\n",
      "1 42.40976183724847\n"
     ]
    }
   ],
   "source": [
    "n=int(input(\"Enter the current population:\"))\n",
    "for i in range(10,0,-1):\n",
    "    print(i,n)\n",
    "    n=n/1.1"
   ]
  },
  {
   "cell_type": "markdown",
   "id": "c935d4fe",
   "metadata": {},
   "source": [
    "### Program.2- Sequence sum\n",
    "\n",
    "1/1! + 2/2! + 3/3! + ..."
   ]
  },
  {
   "cell_type": "code",
   "execution_count": 4,
   "id": "47377544",
   "metadata": {},
   "outputs": [
    {
     "name": "stdout",
     "output_type": "stream",
     "text": [
      "Enter number:3\n",
      "2.5\n"
     ]
    }
   ],
   "source": [
    "n=int(input(\"Enter number:\"))\n",
    "result=0\n",
    "fact=1\n",
    "for i in range(1,n+1):\n",
    "    fact=fact*i\n",
    "    result=result+i/fact\n",
    "print(result)"
   ]
  },
  {
   "cell_type": "code",
   "execution_count": 13,
   "id": "d9274c80",
   "metadata": {},
   "outputs": [
    {
     "name": "stdout",
     "output_type": "stream",
     "text": [
      "Enter number of rows:3\n",
      "Enter number of columns:4\n",
      "****\n",
      "****\n",
      "****\n"
     ]
    }
   ],
   "source": [
    "n=int(input(\"Enter number of rows:\"))\n",
    "m=int(input(\"Enter number of columns:\"))\n",
    "for i in range(1,n+1):\n",
    "    for j in range(1,m+1):\n",
    "        print(\"*\",end=\"\")\n",
    "    print()\n",
    "    "
   ]
  },
  {
   "cell_type": "code",
   "execution_count": 14,
   "id": "b63ad267",
   "metadata": {},
   "outputs": [
    {
     "name": "stdout",
     "output_type": "stream",
     "text": [
      "Enter number of rows:3\n",
      "*\n",
      "**\n",
      "***\n"
     ]
    }
   ],
   "source": [
    "n=int(input(\"Enter number of rows:\"))\n",
    "for i in range(1,n+1):\n",
    "    for j in range(1,i+1):\n",
    "        print(\"*\",end=\"\")\n",
    "    print()"
   ]
  },
  {
   "cell_type": "code",
   "execution_count": 16,
   "id": "58cb9369",
   "metadata": {},
   "outputs": [
    {
     "name": "stdout",
     "output_type": "stream",
     "text": [
      "Enter number of rows:4\n",
      "1\n",
      "121\n",
      "12321\n",
      "1234321\n"
     ]
    }
   ],
   "source": [
    "n=int(input(\"Enter number of rows:\"))\n",
    "for i in range(1,n+1):\n",
    "    for j in range(1,i+1):\n",
    "        print(j,end=\"\")\n",
    "    for k in range(i-1,0,-1):\n",
    "        print(k,end=\"\")\n",
    "    print()"
   ]
  },
  {
   "cell_type": "code",
   "execution_count": 19,
   "id": "1c6eca81",
   "metadata": {},
   "outputs": [
    {
     "name": "stdout",
     "output_type": "stream",
     "text": [
      "Enter lower number:1\n",
      "Enter higher number:20\n",
      "1\n",
      "2\n",
      "3\n",
      "5\n",
      "7\n",
      "11\n",
      "13\n",
      "17\n",
      "19\n"
     ]
    }
   ],
   "source": [
    "lower=int(input(\"Enter lower number:\"))\n",
    "higher=int(input(\"Enter higher number:\"))\n",
    "for i in range(lower,higher+1):\n",
    "    for j in range(2,i):\n",
    "        if i%j==0:\n",
    "            break\n",
    "    else:\n",
    "        \n",
    "        print(i)"
   ]
  },
  {
   "cell_type": "markdown",
   "id": "48e3cbcd",
   "metadata": {},
   "source": [
    "### `Problem 1` - Print the following pattern. Write a program to use for loop to print the following reverse number pattern.\n",
    "\n",
    "```bash\n",
    "5 4 3 2 1 \n",
    "4 3 2 1 \n",
    "3 2 1 \n",
    "2 1 \n",
    "1\n",
    "```"
   ]
  },
  {
   "cell_type": "code",
   "execution_count": 29,
   "id": "01740d77",
   "metadata": {},
   "outputs": [
    {
     "name": "stdout",
     "output_type": "stream",
     "text": [
      "Enter the number of rows:4\n",
      "4 3 2 1 \n",
      "3 2 1 \n",
      "2 1 \n",
      "1 \n"
     ]
    }
   ],
   "source": [
    "n=int(input(\"Enter the number of rows:\"))\n",
    "for i in range(n,0,-1):\n",
    "    for j in range(i,0,-1):\n",
    "        print(j,end=\" \")\n",
    "    print()"
   ]
  },
  {
   "cell_type": "markdown",
   "id": "c1983806",
   "metadata": {},
   "source": [
    "### `Problem 2`: Print the following pattern.\n",
    "\n",
    "```bash\n",
    "* \n",
    "* * \n",
    "* * * \n",
    "* * * * \n",
    "* * * * * \n",
    "* * * * \n",
    "* * * \n",
    "* * \n",
    "*\n",
    "```"
   ]
  },
  {
   "cell_type": "code",
   "execution_count": 28,
   "id": "98eaaee1",
   "metadata": {},
   "outputs": [
    {
     "name": "stdout",
     "output_type": "stream",
     "text": [
      "Enter number of rows:3\n",
      "* \n",
      "* * \n",
      "* * * \n",
      "* * * * \n",
      "* * * \n",
      "* * \n",
      "* \n",
      "\n"
     ]
    }
   ],
   "source": [
    "n=int(input(\"Enter number of rows:\"))\n",
    "for i in range(1,n+1):\n",
    "    for j in range(1,i+1):\n",
    "        print(\"*\",end=\" \")\n",
    "    print()\n",
    "for i in range(n+1,-1,-1):\n",
    "    for j in range(i,0,-1):\n",
    "        print(\"*\",end=\" \")\n",
    "    print()\n",
    "    "
   ]
  },
  {
   "cell_type": "markdown",
   "id": "916e83dd",
   "metadata": {},
   "source": [
    "### `Problem 3`:Write a program to pring the following pattern\n",
    "\n",
    "        *\n",
    "      * * *\n",
    "    * * * * *\n",
    "   * * * * * * *\n",
    "* * * * * * * * *\n"
   ]
  },
  {
   "cell_type": "code",
   "execution_count": 33,
   "id": "0e59bfd0",
   "metadata": {},
   "outputs": [
    {
     "name": "stdout",
     "output_type": "stream",
     "text": [
      "Enter the number of rows:4\n",
      "- - - - \n",
      "- - - \n",
      "- - \n",
      "- \n"
     ]
    }
   ],
   "source": [
    "n=int(input(\"Enter the number of rows:\"))\n",
    "for i in range(n):\n",
    "    for j in range(n-i,0,-1):\n",
    "        print(\"-\", end=\" \")\n",
    "    print()\n"
   ]
  },
  {
   "cell_type": "code",
   "execution_count": null,
   "id": "f9cb56c3",
   "metadata": {},
   "outputs": [],
   "source": []
  },
  {
   "cell_type": "code",
   "execution_count": null,
   "id": "8f7480e2",
   "metadata": {},
   "outputs": [],
   "source": []
  }
 ],
 "metadata": {
  "kernelspec": {
   "display_name": "Python 3 (ipykernel)",
   "language": "python",
   "name": "python3"
  },
  "language_info": {
   "codemirror_mode": {
    "name": "ipython",
    "version": 3
   },
   "file_extension": ".py",
   "mimetype": "text/x-python",
   "name": "python",
   "nbconvert_exporter": "python",
   "pygments_lexer": "ipython3",
   "version": "3.9.12"
  }
 },
 "nbformat": 4,
 "nbformat_minor": 5
}
